{
  "nbformat": 4,
  "nbformat_minor": 0,
  "metadata": {
    "colab": {
      "provenance": [],
      "collapsed_sections": [
        "QXka6FLgIutz",
        "MWCXRkRrIZBi",
        "QB402OQEIdhC",
        "jh17KCJGJCk6",
        "yt-rD5ZiJXPS",
        "5FQ6HL95LB7T",
        "xnqECFKnMjVr",
        "w-2Eyb7qN4EY",
        "h1ba2LUHPkNT"
      ],
      "authorship_tag": "ABX9TyOhPromwZtKvqNpctZpN3GC",
      "include_colab_link": true
    },
    "kernelspec": {
      "name": "python3",
      "display_name": "Python 3"
    },
    "language_info": {
      "name": "python"
    }
  },
  "cells": [
    {
      "cell_type": "markdown",
      "metadata": {
        "id": "view-in-github",
        "colab_type": "text"
      },
      "source": [
        "<a href=\"https://colab.research.google.com/github/Dave-oo-Dave/Dave-oo-Dave.github.io/blob/master/Numpy.ipynb\" target=\"_parent\"><img src=\"https://colab.research.google.com/assets/colab-badge.svg\" alt=\"Open In Colab\"/></a>"
      ]
    },
    {
      "cell_type": "markdown",
      "source": [
        "# Basic Properties \n",
        "\n"
      ],
      "metadata": {
        "id": "jLF1H81GFZ4a"
      }
    },
    {
      "cell_type": "markdown",
      "source": [
        "#Arrays"
      ],
      "metadata": {
        "id": "QXka6FLgIutz"
      }
    },
    {
      "cell_type": "code",
      "execution_count": 45,
      "metadata": {
        "colab": {
          "base_uri": "https://localhost:8080/"
        },
        "id": "FgxwXDo3BSWY",
        "outputId": "40619c5f-2255-4275-a1b1-10cbd4a46351"
      },
      "outputs": [
        {
          "output_type": "stream",
          "name": "stdout",
          "text": [
            "2 (3, 3) float32\n"
          ]
        }
      ],
      "source": [
        "import numpy as np\n",
        "a= np.array([[1,2,3],[4,5,6],[7,8,9]],dtype=np.float32)\n",
        "print (a.ndim,a.shape,a.dtype)"
      ]
    },
    {
      "cell_type": "markdown",
      "source": [
        "#Only ONES\n"
      ],
      "metadata": {
        "id": "MWCXRkRrIZBi"
      }
    },
    {
      "cell_type": "code",
      "source": [
        "np.ones((3,5),dtype=np.float32)"
      ],
      "metadata": {
        "colab": {
          "base_uri": "https://localhost:8080/"
        },
        "id": "M3ezxY2eIA6Q",
        "outputId": "66b7ba01-7959-45ae-9b90-ad8060439e0b"
      },
      "execution_count": 46,
      "outputs": [
        {
          "output_type": "execute_result",
          "data": {
            "text/plain": [
              "array([[1., 1., 1., 1., 1.],\n",
              "       [1., 1., 1., 1., 1.],\n",
              "       [1., 1., 1., 1., 1.]], dtype=float32)"
            ]
          },
          "metadata": {},
          "execution_count": 46
        }
      ]
    },
    {
      "cell_type": "markdown",
      "source": [
        "#Only Zeros"
      ],
      "metadata": {
        "id": "QB402OQEIdhC"
      }
    },
    {
      "cell_type": "code",
      "source": [
        "np.zeros((6,2),dtype=np.int8)"
      ],
      "metadata": {
        "colab": {
          "base_uri": "https://localhost:8080/"
        },
        "id": "kfyDNVEfIiAf",
        "outputId": "4782e456-742d-4d4d-cab3-ccd9ae4f2928"
      },
      "execution_count": 47,
      "outputs": [
        {
          "output_type": "execute_result",
          "data": {
            "text/plain": [
              "array([[0, 0],\n",
              "       [0, 0],\n",
              "       [0, 0],\n",
              "       [0, 0],\n",
              "       [0, 0],\n",
              "       [0, 0]], dtype=int8)"
            ]
          },
          "metadata": {},
          "execution_count": 47
        }
      ]
    },
    {
      "cell_type": "markdown",
      "source": [
        "# Array RANGE"
      ],
      "metadata": {
        "id": "jh17KCJGJCk6"
      }
    },
    {
      "cell_type": "code",
      "source": [
        "np.arange(1334,1338)"
      ],
      "metadata": {
        "colab": {
          "base_uri": "https://localhost:8080/"
        },
        "id": "vIfLzJmeI7bZ",
        "outputId": "6f629310-70c0-445e-ddca-c9e5c58edcf2"
      },
      "execution_count": 48,
      "outputs": [
        {
          "output_type": "execute_result",
          "data": {
            "text/plain": [
              "array([1334, 1335, 1336, 1337])"
            ]
          },
          "metadata": {},
          "execution_count": 48
        }
      ]
    },
    {
      "cell_type": "markdown",
      "source": [
        "# Concatenate with AXIS\n"
      ],
      "metadata": {
        "id": "yt-rD5ZiJXPS"
      }
    },
    {
      "cell_type": "code",
      "source": [
        "A=np.ones((4,1))\n",
        "B=np.zeros((4,2))\n",
        "np.concatenate([A,B], axis=1)"
      ],
      "metadata": {
        "colab": {
          "base_uri": "https://localhost:8080/"
        },
        "id": "GS_bobhQJdkS",
        "outputId": "63ed9892-ac43-4a99-d6bb-6ceccaed63b0"
      },
      "execution_count": 49,
      "outputs": [
        {
          "output_type": "execute_result",
          "data": {
            "text/plain": [
              "array([[1., 0., 0.],\n",
              "       [1., 0., 0.],\n",
              "       [1., 0., 0.],\n",
              "       [1., 0., 0.]])"
            ]
          },
          "metadata": {},
          "execution_count": 49
        }
      ]
    },
    {
      "cell_type": "markdown",
      "source": [
        "#LIKE A\n"
      ],
      "metadata": {
        "id": "5FQ6HL95LB7T"
      }
    },
    {
      "cell_type": "code",
      "source": [
        "a= np.ones((3,3,4))\n",
        "b=np.zeros_like(a)\n",
        "print (b.shape)"
      ],
      "metadata": {
        "colab": {
          "base_uri": "https://localhost:8080/"
        },
        "id": "RO_GovcLLEfD",
        "outputId": "caab6373-54bd-46cd-eb7c-f572e13c5eea"
      },
      "execution_count": 50,
      "outputs": [
        {
          "output_type": "stream",
          "name": "stdout",
          "text": [
            "(3, 3, 4)\n"
          ]
        }
      ]
    },
    {
      "cell_type": "markdown",
      "source": [
        "#SHAPING"
      ],
      "metadata": {
        "id": "xnqECFKnMjVr"
      }
    },
    {
      "cell_type": "code",
      "source": [
        "a=np.array([1,2,3,4,5,6])\n",
        "\n",
        "a.reshape(3,2)\n",
        "\n",
        "a.reshape(2,-1)\n",
        "\n",
        "a.ravel()\n",
        "\n"
      ],
      "metadata": {
        "colab": {
          "base_uri": "https://localhost:8080/"
        },
        "id": "Gfpn2GgxMotc",
        "outputId": "e28223aa-af5a-4b6a-a166-ab56ac116a8a"
      },
      "execution_count": 51,
      "outputs": [
        {
          "output_type": "execute_result",
          "data": {
            "text/plain": [
              "array([1, 2, 3, 4, 5, 6])"
            ]
          },
          "metadata": {},
          "execution_count": 51
        }
      ]
    },
    {
      "cell_type": "markdown",
      "source": [
        "#Transposition"
      ],
      "metadata": {
        "id": "w-2Eyb7qN4EY"
      }
    },
    {
      "cell_type": "code",
      "source": [
        "a=np.arange(10).reshape(5,2)"
      ],
      "metadata": {
        "id": "m95vzBXHN6ot"
      },
      "execution_count": 52,
      "outputs": []
    },
    {
      "cell_type": "code",
      "source": [
        "a.T"
      ],
      "metadata": {
        "colab": {
          "base_uri": "https://localhost:8080/"
        },
        "id": "sJq3OS29ONgV",
        "outputId": "cfb3a0a2-53b0-4437-8d9c-c644ff8a9cbe"
      },
      "execution_count": 53,
      "outputs": [
        {
          "output_type": "execute_result",
          "data": {
            "text/plain": [
              "array([[0, 2, 4, 6, 8],\n",
              "       [1, 3, 5, 7, 9]])"
            ]
          },
          "metadata": {},
          "execution_count": 53
        }
      ]
    },
    {
      "cell_type": "code",
      "source": [
        "a.transpose((1,0))"
      ],
      "metadata": {
        "colab": {
          "base_uri": "https://localhost:8080/"
        },
        "id": "hMQopbK6OSRj",
        "outputId": "80ab584f-8e76-4e9b-b386-3165b5a13f2c"
      },
      "execution_count": 54,
      "outputs": [
        {
          "output_type": "execute_result",
          "data": {
            "text/plain": [
              "array([[0, 2, 4, 6, 8],\n",
              "       [1, 3, 5, 7, 9]])"
            ]
          },
          "metadata": {},
          "execution_count": 54
        }
      ]
    },
    {
      "cell_type": "markdown",
      "source": [
        "#Image Savings and Loadings"
      ],
      "metadata": {
        "id": "iuq4ytU-Or4l"
      }
    },
    {
      "cell_type": "code",
      "source": [
        "np.savez"
      ],
      "metadata": {
        "colab": {
          "base_uri": "https://localhost:8080/"
        },
        "id": "Dfe369fjOw9n",
        "outputId": "c5d56cd8-0e93-430b-90ea-50869d9f879a"
      },
      "execution_count": 55,
      "outputs": [
        {
          "output_type": "execute_result",
          "data": {
            "text/plain": [
              "<function numpy.savez(file, *args, **kwds)>"
            ]
          },
          "metadata": {},
          "execution_count": 55
        }
      ]
    },
    {
      "cell_type": "markdown",
      "source": [
        "#Image Arrays"
      ],
      "metadata": {
        "id": "bmQ5Fke8O2U2"
      }
    },
    {
      "cell_type": "code",
      "source": [],
      "metadata": {
        "id": "oE7KvKooO596"
      },
      "execution_count": 55,
      "outputs": []
    },
    {
      "cell_type": "markdown",
      "source": [
        "#Mathematical ARRAYS"
      ],
      "metadata": {
        "id": "h1ba2LUHPkNT"
      }
    },
    {
      "cell_type": "code",
      "source": [
        "a= np.array([[1,2,3],[4,5,6],[7,8,9]],dtype=np.float32)"
      ],
      "metadata": {
        "id": "dGC4oIdzPoKb"
      },
      "execution_count": 56,
      "outputs": []
    },
    {
      "cell_type": "code",
      "source": [
        "np.sqrt(a)"
      ],
      "metadata": {
        "colab": {
          "base_uri": "https://localhost:8080/"
        },
        "id": "wiRF35k-Pv_u",
        "outputId": "77f1efe5-0f42-4292-dd11-ece9d86777d4"
      },
      "execution_count": 57,
      "outputs": [
        {
          "output_type": "execute_result",
          "data": {
            "text/plain": [
              "array([[1.       , 1.4142135, 1.7320508],\n",
              "       [2.       , 2.236068 , 2.4494898],\n",
              "       [2.6457512, 2.828427 , 3.       ]], dtype=float32)"
            ]
          },
          "metadata": {},
          "execution_count": 57
        }
      ]
    },
    {
      "cell_type": "markdown",
      "source": [
        "#Indexing"
      ],
      "metadata": {
        "id": "-eyoPelFP8pJ"
      }
    },
    {
      "cell_type": "code",
      "source": [
        "a= np.array([[1,2,3],[4,5,6],[7,8,9]],dtype=np.float32)\n",
        "a[:,0]#first column (many entries)\n"
      ],
      "metadata": {
        "colab": {
          "base_uri": "https://localhost:8080/"
        },
        "id": "qenysUhNP_4Z",
        "outputId": "b3b5169e-a7ce-437f-fa8e-cd4516338a81"
      },
      "execution_count": 62,
      "outputs": [
        {
          "output_type": "execute_result",
          "data": {
            "text/plain": [
              "array([1., 4., 7.], dtype=float32)"
            ]
          },
          "metadata": {},
          "execution_count": 62
        }
      ]
    },
    {
      "cell_type": "code",
      "source": [
        "a= np.array([[1,2,3],[4,5,6],[7,8,9]],dtype=np.float32)\n",
        "a[0,-1]#firstrowlastcolumn"
      ],
      "metadata": {
        "colab": {
          "base_uri": "https://localhost:8080/"
        },
        "id": "J546Q3DxSXSb",
        "outputId": "6c52ee6c-5bf5-4e8d-9288-de391402ddd9"
      },
      "execution_count": 61,
      "outputs": [
        {
          "output_type": "execute_result",
          "data": {
            "text/plain": [
              "3.0"
            ]
          },
          "metadata": {},
          "execution_count": 61
        }
      ]
    },
    {
      "cell_type": "code",
      "source": [
        "a= np.array([[1,2,3],[4,5,6],[7,8,9]],dtype=np.float32)\n",
        "a[0,0]#topleftelement"
      ],
      "metadata": {
        "colab": {
          "base_uri": "https://localhost:8080/"
        },
        "id": "L2vm5MOUSDQJ",
        "outputId": "27db6b29-5823-430d-debc-0231ad157bf8"
      },
      "execution_count": 60,
      "outputs": [
        {
          "output_type": "execute_result",
          "data": {
            "text/plain": [
              "1.0"
            ]
          },
          "metadata": {},
          "execution_count": 60
        }
      ]
    },
    {
      "cell_type": "code",
      "source": [
        "a= np.array([[1,2,3],[4,5,6],[7,8,9]],dtype=np.float32)\n",
        "a[0,:]#firstrow (many entries)"
      ],
      "metadata": {
        "colab": {
          "base_uri": "https://localhost:8080/"
        },
        "id": "6nnetgAYR63M",
        "outputId": "b71a2b53-1265-48d4-8a4a-9a19c28f16fd"
      },
      "execution_count": 59,
      "outputs": [
        {
          "output_type": "execute_result",
          "data": {
            "text/plain": [
              "array([1., 2., 3.], dtype=float32)"
            ]
          },
          "metadata": {},
          "execution_count": 59
        }
      ]
    },
    {
      "cell_type": "markdown",
      "source": [
        "#Sum"
      ],
      "metadata": {
        "id": "67OqLG06TH0c"
      }
    },
    {
      "cell_type": "code",
      "source": [
        "a= np.array([[1,2,3],[4,5,6],[7,8,9]],dtype=np.float32)\n",
        "a.sum()"
      ],
      "metadata": {
        "colab": {
          "base_uri": "https://localhost:8080/"
        },
        "id": "R4ZKyg52TNl_",
        "outputId": "56951bd2-0e30-472a-cf00-2fe0da3c7d7d"
      },
      "execution_count": 63,
      "outputs": [
        {
          "output_type": "execute_result",
          "data": {
            "text/plain": [
              "45.0"
            ]
          },
          "metadata": {},
          "execution_count": 63
        }
      ]
    },
    {
      "cell_type": "code",
      "source": [
        "a= np.array([[1,2,3],[4,5,6],[7,8,9]],dtype=np.float32)\n",
        "a.sum(axis=0)#sumoverrows"
      ],
      "metadata": {
        "colab": {
          "base_uri": "https://localhost:8080/"
        },
        "id": "wSQJ8vr8ThDj",
        "outputId": "8790978b-f8e9-412e-de1f-82946b23fc35"
      },
      "execution_count": 64,
      "outputs": [
        {
          "output_type": "execute_result",
          "data": {
            "text/plain": [
              "array([12., 15., 18.], dtype=float32)"
            ]
          },
          "metadata": {},
          "execution_count": 64
        }
      ]
    },
    {
      "cell_type": "code",
      "source": [
        "a= np.array([[1,2,3],[4,5,6],[7,8,9]],dtype=np.float32)\n",
        "a.sum(axis=1)#sumovercolumns"
      ],
      "metadata": {
        "colab": {
          "base_uri": "https://localhost:8080/"
        },
        "id": "KZE3dXZ0TxAr",
        "outputId": "55754be7-0578-4af8-8d34-6456038ba278"
      },
      "execution_count": 65,
      "outputs": [
        {
          "output_type": "execute_result",
          "data": {
            "text/plain": [
              "array([ 6., 15., 24.], dtype=float32)"
            ]
          },
          "metadata": {},
          "execution_count": 65
        }
      ]
    },
    {
      "cell_type": "code",
      "source": [
        "a= np.array([[1,2,3],[4,5,6],[7,8,9]],dtype=np.float32)\n",
        "a.sum(axis=1, keepdims=True)"
      ],
      "metadata": {
        "colab": {
          "base_uri": "https://localhost:8080/"
        },
        "id": "t8xvCh5MT-2m",
        "outputId": "a12dfe62-f8d8-443d-bbd3-f60ef47859db"
      },
      "execution_count": 67,
      "outputs": [
        {
          "output_type": "execute_result",
          "data": {
            "text/plain": [
              "array([[ 6.],\n",
              "       [15.],\n",
              "       [24.]], dtype=float32)"
            ]
          },
          "metadata": {},
          "execution_count": 67
        }
      ]
    }
  ]
}